{
 "cells": [
  {
   "cell_type": "code",
   "execution_count": 1,
   "metadata": {},
   "outputs": [],
   "source": [
    "import pandas as pd\n",
    "import numpy as np"
   ]
  },
  {
   "cell_type": "code",
   "execution_count": 4,
   "metadata": {},
   "outputs": [
    {
     "name": "stdout",
     "output_type": "stream",
     "text": [
      "(70, 5)\n"
     ]
    },
    {
     "data": {
      "text/html": [
       "<div>\n",
       "<style scoped>\n",
       "    .dataframe tbody tr th:only-of-type {\n",
       "        vertical-align: middle;\n",
       "    }\n",
       "\n",
       "    .dataframe tbody tr th {\n",
       "        vertical-align: top;\n",
       "    }\n",
       "\n",
       "    .dataframe thead th {\n",
       "        text-align: right;\n",
       "    }\n",
       "</style>\n",
       "<table border=\"1\" class=\"dataframe\">\n",
       "  <thead>\n",
       "    <tr style=\"text-align: right;\">\n",
       "      <th></th>\n",
       "      <th>id</th>\n",
       "      <th>name</th>\n",
       "      <th>email</th>\n",
       "      <th>age</th>\n",
       "      <th>location</th>\n",
       "    </tr>\n",
       "  </thead>\n",
       "  <tbody>\n",
       "    <tr>\n",
       "      <th>0</th>\n",
       "      <td>PYmt8hd</td>\n",
       "      <td>jdcrLI</td>\n",
       "      <td>jdcrli@gmail.com</td>\n",
       "      <td>27</td>\n",
       "      <td>London</td>\n",
       "    </tr>\n",
       "    <tr>\n",
       "      <th>1</th>\n",
       "      <td>aN21Mhj</td>\n",
       "      <td>yoHrWHE</td>\n",
       "      <td>oHrWHE@example</td>\n",
       "      <td>40</td>\n",
       "      <td>NaN</td>\n",
       "    </tr>\n",
       "    <tr>\n",
       "      <th>2</th>\n",
       "      <td>NaN</td>\n",
       "      <td>oHrWHE</td>\n",
       "      <td>oHrWHE@a.com</td>\n",
       "      <td>a</td>\n",
       "      <td>NaN</td>\n",
       "    </tr>\n",
       "  </tbody>\n",
       "</table>\n",
       "</div>"
      ],
      "text/plain": [
       "        id     name             email age location\n",
       "0  PYmt8hd   jdcrLI  jdcrli@gmail.com  27   London\n",
       "1  aN21Mhj  yoHrWHE    oHrWHE@example  40      NaN\n",
       "2      NaN   oHrWHE      oHrWHE@a.com   a      NaN"
      ]
     },
     "execution_count": 4,
     "metadata": {},
     "output_type": "execute_result"
    }
   ],
   "source": [
    "data = pd.read_csv('./database.csv', sep=',')\n",
    "print(data.shape)\n",
    "data.head(3)"
   ]
  },
  {
   "cell_type": "code",
   "execution_count": 13,
   "metadata": {},
   "outputs": [],
   "source": [
    "import re\n",
    "\n",
    "def validate(email):\n",
    "    expresion_regular = r\"(?:[a-z0-9!#$%&'*+/=?^_`{|}~-]+(?:\\.[a-z0-9!#$%&'*+/=?^_`{|}~-]+)*|\\\"(?:[\\x01-\\x08\\x0b\\x0c\\x0e-\\x1f\\x21\\x23-\\x5b\\x5d-\\x7f]|\\\\[\\x01-\\x09\\x0b\\x0c\\x0e-\\x7f])*\\\")@(?:(?:[a-z0-9](?:[a-z0-9-]*[a-z0-9])?\\.)+[a-z0-9](?:[a-z0-9-]*[a-z0-9])?|\\[(?:(?:(2(5[0-5]|[0-4][0-9])|1[0-9][0-9]|[1-9]?[0-9]))\\.){3}(?:(2(5[0-5]|[0-4][0-9])|1[0-9][0-9]|[1-9]?[0-9])|[a-z0-9-]*[a-z0-9]:(?:[\\x01-\\x08\\x0b\\x0c\\x0e-\\x1f\\x21-\\x5a\\x53-\\x7f]|\\\\[\\x01-\\x09\\x0b\\x0c\\x0e-\\x7f])+)\\])\"\n",
    "\n",
    "    return True if re.match(expresion_regular, email) else False\n",
    "\n",
    "def validateLocation(location):\n",
    "    patron = \"^[A-Za-z ]+$\"\n",
    "    return True if re.match(patron, location) else False"
   ]
  },
  {
   "cell_type": "code",
   "execution_count": 60,
   "metadata": {},
   "outputs": [
    {
     "name": "stdout",
     "output_type": "stream",
     "text": [
      "yoHrWHE\n",
      "oHrWHE\n",
      "utuPMN\n",
      "htuPMN\n",
      "4vZtIH\n",
      "vsWtBk\n",
      "3vsWtBk\n",
      "bGyjPo\n",
      "eGyjPo\n",
      "eBbEBV\n",
      "pB1P64\n",
      "nceCp2\n",
      "jauTbB\n",
      "djrWrL\n",
      "prYGAC\n",
      "wWZxgp\n",
      "DFgbNn\n",
      "ngPCGN\n",
      "dplQIl\n",
      "AxLzOk\n",
      "nnqyAa\n",
      "hlyLQF\n",
      "EfaHWA\n",
      "youh4v3beepnjdpwDndAnhE\n"
     ]
    }
   ],
   "source": [
    "invalid_user = ''\n",
    "\n",
    "for id in range(0, 70):\n",
    "    row = data.iloc[id]\n",
    "\n",
    "    validId = False\n",
    "    validName = False\n",
    "    validEmail = False\n",
    "    ValidAge = True\n",
    "    ValidLocation = True\n",
    "\n",
    "    if (isinstance(row['id'], str)): validId = row['id'].isalnum()\n",
    "    if (isinstance(row['name'], str)): validName = row['name'].isalnum()\n",
    "    if (isinstance(row['email'], str)): validEmail = validate(row['email'])\n",
    "    if (isinstance(row['age'], str)): ValidAge = row['age'].isdigit()\n",
    "    if (isinstance(row['location'], str)): ValidLocation = row['location'].isalpha()\n",
    "\n",
    "    if validId and validName and validEmail and ValidAge and ValidLocation:\n",
    "        pass\n",
    "    else:\n",
    "        invalid_user = invalid_user + row['name'][0]\n",
    "        print(row['name'])\n",
    "    \n",
    "\n",
    "print(invalid_user)\n"
   ]
  },
  {
   "cell_type": "code",
   "execution_count": null,
   "metadata": {},
   "outputs": [],
   "source": []
  }
 ],
 "metadata": {
  "kernelspec": {
   "display_name": "machine",
   "language": "python",
   "name": "python3"
  },
  "language_info": {
   "codemirror_mode": {
    "name": "ipython",
    "version": 3
   },
   "file_extension": ".py",
   "mimetype": "text/x-python",
   "name": "python",
   "nbconvert_exporter": "python",
   "pygments_lexer": "ipython3",
   "version": "3.10.13"
  }
 },
 "nbformat": 4,
 "nbformat_minor": 2
}
